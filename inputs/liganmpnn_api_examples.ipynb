{
 "cells": [
  {
   "cell_type": "code",
   "execution_count": null,
   "id": "6699d3a8-f2c0-4f36-a196-95c5daf435dc",
   "metadata": {},
   "outputs": [],
   "source": [
    "import os, sys\n",
    "sys.path.append(\"../\")\n",
    "import mpnn_api\n",
    "\n",
    "\n",
    "def report_seqs(seq1, seq2):\n",
    "    \"\"\"\n",
    "    Prints out the generated and parent sequences, and highlights any introduced mutations.\n",
    "    \"\"\"\n",
    "    str0 = \"  Resno: 1  \"\n",
    "    str1 = \" Before: \"\n",
    "    str2 = \"Mutated: \"\n",
    "    str3 = \"  After: \"\n",
    "    n = 1\n",
    "    print(\"Sequences before and after MPNN design\")\n",
    "    for i, (r1, r2) in enumerate(zip(seq1, seq2)):\n",
    "        if n == 81 or i == len(seq2)-1:\n",
    "            n_spaces = n-5\n",
    "            print(str0 + \" \"* n_spaces + f\"{i:<3}\")\n",
    "            print(str1)\n",
    "            print(str2)\n",
    "            print(str3 + \"\\n\")\n",
    "            n = 1\n",
    "            str0 = f\"  Resno: {(i+1):<3}\"\n",
    "            str1 = \" Before: \"\n",
    "            str2 = \"Mutated: \"\n",
    "            str3 = \"  After: \"\n",
    "\n",
    "        str1 += r1\n",
    "        str3 += r2\n",
    "        if r1 == r2:\n",
    "            str2 += \" \"\n",
    "        else:\n",
    "            str2 += \"*\"\n",
    "        n += 1\n"
   ]
  },
  {
   "cell_type": "code",
   "execution_count": null,
   "id": "dd6ac9f6-1ce9-472c-93c1-aa905176b69c",
   "metadata": {},
   "outputs": [],
   "source": [
    "mpnnrunner = mpnn_api.MPNNRunner(\"ligand_mpnn\", ligand_mpnn_use_side_chain_context=True, verbose=True)"
   ]
  },
  {
   "cell_type": "code",
   "execution_count": null,
   "id": "ebdc3206-b672-402f-a1f0-f92d17f2d297",
   "metadata": {},
   "outputs": [],
   "source": [
    "mpnn_input = mpnnrunner.MPNN_Input()\n",
    "mpnn_input.pdb = \"4GYT.pdb\"\n",
    "mpnn_input.chains_to_design = [\"A\", \"B\"]\n",
    "mpnn_input.parse_these_chains_only = [\"A\", \"B\"]\n",
    "mpnn_input.design_residues = [f\"A{n}\" for n in range(150, 167)] + [f\"B{n}\" for n in range(150, 167)]\n",
    "mpnn_input.symmetry_residues = [[f\"A{n}\", f\"B{n}\"] for n in range(150, 167)]\n",
    "mpnn_input.fix_everything_not_designable = True\n",
    "mpnn_input.temperature = 0.1\n",
    "mpnn_input.batch_size = 5\n",
    "mpnn_input.number_of_batches = 2\n",
    "mpnn_input.parse_atoms_with_zero_occupancy = False"
   ]
  },
  {
   "cell_type": "code",
   "execution_count": null,
   "id": "c69bca43-2165-4828-9e7e-6ff20676a435",
   "metadata": {},
   "outputs": [],
   "source": [
    "out = mpnnrunner.run(mpnn_input, return_pdb=True)"
   ]
  },
  {
   "cell_type": "code",
   "execution_count": null,
   "id": "21d838b2-e721-45cd-9ca9-fe0d98da1ba2",
   "metadata": {},
   "outputs": [],
   "source": [
    "for seq in out[\"generated_sequences\"]:\n",
    "    report_seqs(out[\"native_sequence\"].split(\"/\")[0], seq.split(\"/\")[0])"
   ]
  },
  {
   "cell_type": "code",
   "execution_count": null,
   "id": "ca664008-b4c3-450a-99f0-53e5a76ee4b3",
   "metadata": {
    "scrolled": true
   },
   "outputs": [],
   "source": []
  },
  {
   "cell_type": "code",
   "execution_count": null,
   "id": "5be55010-8f20-4b06-861b-0b91cf3c8746",
   "metadata": {},
   "outputs": [],
   "source": []
  },
  {
   "cell_type": "code",
   "execution_count": null,
   "id": "e75ce945-7ba7-441d-ab5e-481377dc02e9",
   "metadata": {},
   "outputs": [],
   "source": [
    "### Dictionary input\n",
    "mpnn_dict = {\"pdb\": \"4GYT.pdb\",\n",
    "             \"chains_to_design\": [\"A\", \"B\"],\n",
    "             \"parse_these_chains_only\": [\"A\", \"B\"],\n",
    "             \"design_residues\": [f\"A{n}\" for n in range(150, 167)] + [f\"B{n}\" for n in range(150, 167)],\n",
    "             \"symmetry_residues\": [[f\"A{n}\", f\"B{n}\"] for n in range(150, 167)],\n",
    "             \"fix_everything_not_designable\": True,\n",
    "             \"temperature\": 0.1,\n",
    "             \"batch_size\": 10,\n",
    "             \"number_of_batches\": 2,\n",
    "             \"parse_atoms_with_zero_occupancy\": False}\n",
    "mpnn_input = mpnnrunner.MPNN_Input(mpnn_dict)"
   ]
  },
  {
   "cell_type": "code",
   "execution_count": null,
   "id": "1486b3e6-8083-49af-b845-3acb4de62f1f",
   "metadata": {},
   "outputs": [],
   "source": [
    "out = mpnnrunner.run(mpnn_input, return_pdb=True)"
   ]
  },
  {
   "cell_type": "code",
   "execution_count": null,
   "id": "d3f70d59-9dbd-4381-a2ef-1d5377ae3c13",
   "metadata": {},
   "outputs": [],
   "source": []
  }
 ],
 "metadata": {
  "kernelspec": {
   "display_name": "Python 3 (ipykernel)",
   "language": "python",
   "name": "python3"
  },
  "language_info": {
   "codemirror_mode": {
    "name": "ipython",
    "version": 3
   },
   "file_extension": ".py",
   "mimetype": "text/x-python",
   "name": "python",
   "nbconvert_exporter": "python",
   "pygments_lexer": "ipython3",
   "version": "3.10.14"
  }
 },
 "nbformat": 4,
 "nbformat_minor": 5
}
